{
 "cells": [
  {
   "cell_type": "code",
   "execution_count": 14,
   "metadata": {},
   "outputs": [],
   "source": [
    "#dunder Methods\n",
    "#A class is a blank template that we can use to create Objects(examples)\n",
    "from functools import total_ordering\n",
    "\n",
    "#decorators allow us to take existing code and augment it with additonal behavior\n",
    "@total_ordering\n",
    "class Customer:\n",
    "    customer_id = 0\n",
    "    \n",
    "    def __init__(self, name:str, car:str) -> None:\n",
    "        self.name = name\n",
    "        self.car = car\n",
    "        Customer.customer_id += 1\n",
    "        self.id = Customer.customer_id\n",
    "        self._payments = []\n",
    "    \n",
    "    def display_details(self):\n",
    "        print('Name: %s\\nID: %i\\ncar: %s' %(self.name, self.id, self.car) )\n",
    "    \n",
    "    def update_car(self, car:str) -> None:\n",
    "        self.car = car\n",
    "    \n",
    "    def __repr__(self):\n",
    "        return ('Name: %s\\nID: %i\\nCar: %s' %(self.name, self.id, self.car))\n",
    "    \n",
    "    def add_payment (self, amount):\n",
    "        if not isinstance (amount, int):\n",
    "            raise ValueError('The value of the anount needs to be a number')\n",
    "        self._payments.append(amount)\n",
    "    \n",
    "    def __len__(self):\n",
    "        return len(self._payments)\n",
    "    \n",
    "    def __eq__(self, other):\n",
    "        return sum(self._payments) == sum(other._payments)\n",
    "   \n",
    "    def __lt__(self, other):\n",
    "        return sum(self._payments) < sum(other._payments)\n",
    "        \n",
    "    \n",
    "        "
   ]
  },
  {
   "cell_type": "code",
   "execution_count": 15,
   "metadata": {},
   "outputs": [
    {
     "name": "stdout",
     "output_type": "stream",
     "text": [
      "Name: Alan\n",
      "ID: 1\n",
      "car: Integra\n"
     ]
    }
   ],
   "source": [
    "customer1 = Customer ('Alan', 'Honda Fit')\n",
    "customer1.update_car('Integra')\n",
    "customer1.display_details()"
   ]
  },
  {
   "cell_type": "code",
   "execution_count": 16,
   "metadata": {},
   "outputs": [
    {
     "name": "stdout",
     "output_type": "stream",
     "text": [
      "Customer Count: 1\n"
     ]
    }
   ],
   "source": [
    "print ('Customer Count:', Customer.customer_id)"
   ]
  },
  {
   "cell_type": "code",
   "execution_count": 17,
   "metadata": {},
   "outputs": [
    {
     "name": "stdout",
     "output_type": "stream",
     "text": [
      "Name: Alan\n",
      "ID: 1\n",
      "Car: Integra\n"
     ]
    }
   ],
   "source": [
    "print(customer1)"
   ]
  },
  {
   "cell_type": "code",
   "execution_count": 18,
   "metadata": {},
   "outputs": [],
   "source": [
    "customer1.add_payment(40)\n",
    "customer1.add_payment(90)\n",
    "customer1.add_payment(472)\n",
    "customer1.add_payment(4216)\n",
    "customer1.add_payment(1)"
   ]
  },
  {
   "cell_type": "code",
   "execution_count": 19,
   "metadata": {},
   "outputs": [
    {
     "data": {
      "text/plain": [
       "5"
      ]
     },
     "execution_count": 19,
     "metadata": {},
     "output_type": "execute_result"
    }
   ],
   "source": [
    "#Len method works on lists but not objects unless stated in class\n",
    "len(customer1)"
   ]
  },
  {
   "cell_type": "code",
   "execution_count": null,
   "metadata": {},
   "outputs": [],
   "source": [
    "customer1 "
   ]
  },
  {
   "cell_type": "code",
   "execution_count": null,
   "metadata": {},
   "outputs": [],
   "source": []
  },
  {
   "cell_type": "code",
   "execution_count": null,
   "metadata": {},
   "outputs": [],
   "source": []
  },
  {
   "cell_type": "code",
   "execution_count": null,
   "metadata": {},
   "outputs": [],
   "source": []
  },
  {
   "cell_type": "code",
   "execution_count": null,
   "metadata": {},
   "outputs": [],
   "source": []
  },
  {
   "cell_type": "code",
   "execution_count": null,
   "metadata": {},
   "outputs": [],
   "source": []
  },
  {
   "cell_type": "code",
   "execution_count": null,
   "metadata": {},
   "outputs": [],
   "source": []
  },
  {
   "cell_type": "code",
   "execution_count": null,
   "metadata": {},
   "outputs": [],
   "source": []
  }
 ],
 "metadata": {
  "kernelspec": {
   "display_name": "Python 3",
   "language": "python",
   "name": "python3"
  },
  "language_info": {
   "codemirror_mode": {
    "name": "ipython",
    "version": 3
   },
   "file_extension": ".py",
   "mimetype": "text/x-python",
   "name": "python",
   "nbconvert_exporter": "python",
   "pygments_lexer": "ipython3",
   "version": "3.7.1"
  }
 },
 "nbformat": 4,
 "nbformat_minor": 2
}
