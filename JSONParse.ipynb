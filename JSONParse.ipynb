{
 "cells": [
  {
   "cell_type": "code",
   "execution_count": 3,
   "metadata": {},
   "outputs": [],
   "source": [
    "import json\n",
    "import requests\n",
    "from pprint import pprint"
   ]
  },
  {
   "cell_type": "code",
   "execution_count": 4,
   "metadata": {},
   "outputs": [],
   "source": [
    "url = 'http://api.openweathermap.org/data/2.5/forecast'\n",
    "paramDict = {'q': 'London,UK', 'units': 'metric', 'appid': '5d4de404dbbe5bf7025ad72715503f15', 'cnt': 5}"
   ]
  },
  {
   "cell_type": "code",
   "execution_count": 5,
   "metadata": {},
   "outputs": [],
   "source": [
    "response = requests.get(url, params=paramDict)\n",
    "parsed_json = response.json();"
   ]
  },
  {
   "cell_type": "code",
   "execution_count": 6,
   "metadata": {},
   "outputs": [
    {
     "name": "stdout",
     "output_type": "stream",
     "text": [
      "{'city': {'coord': {'lat': 51.5085, 'lon': -0.1258},\n",
      "          'country': 'GB',\n",
      "          'id': 2643743,\n",
      "          'name': 'London',\n",
      "          'population': 1000000},\n",
      " 'cnt': 5,\n",
      " 'cod': '200',\n",
      " 'list': [{'clouds': {'all': 12},\n",
      "           'dt': 1554141600,\n",
      "           'dt_txt': '2019-04-01 18:00:00',\n",
      "           'main': {'grnd_level': 1008.8,\n",
      "                    'humidity': 55,\n",
      "                    'pressure': 1016.24,\n",
      "                    'sea_level': 1016.24,\n",
      "                    'temp': 11.66,\n",
      "                    'temp_kf': 0.66,\n",
      "                    'temp_max': 11.66,\n",
      "                    'temp_min': 11},\n",
      "           'sys': {'pod': 'd'},\n",
      "           'weather': [{'description': 'few clouds',\n",
      "                        'icon': '02d',\n",
      "                        'id': 801,\n",
      "                        'main': 'Clouds'}],\n",
      "           'wind': {'deg': 95.5106, 'speed': 2.34}},\n",
      "          {'clouds': {'all': 0},\n",
      "           'dt': 1554152400,\n",
      "           'dt_txt': '2019-04-01 21:00:00',\n",
      "           'main': {'grnd_level': 1007.64,\n",
      "                    'humidity': 79,\n",
      "                    'pressure': 1015.22,\n",
      "                    'sea_level': 1015.22,\n",
      "                    'temp': 6.46,\n",
      "                    'temp_kf': 0.5,\n",
      "                    'temp_max': 6.46,\n",
      "                    'temp_min': 5.96},\n",
      "           'sys': {'pod': 'n'},\n",
      "           'weather': [{'description': 'clear sky',\n",
      "                        'icon': '01n',\n",
      "                        'id': 800,\n",
      "                        'main': 'Clear'}],\n",
      "           'wind': {'deg': 89.0001, 'speed': 2.16}},\n",
      "          {'clouds': {'all': 0},\n",
      "           'dt': 1554163200,\n",
      "           'dt_txt': '2019-04-02 00:00:00',\n",
      "           'main': {'grnd_level': 1005.15,\n",
      "                    'humidity': 97,\n",
      "                    'pressure': 1012.77,\n",
      "                    'sea_level': 1012.77,\n",
      "                    'temp': 3.03,\n",
      "                    'temp_kf': 0.33,\n",
      "                    'temp_max': 3.03,\n",
      "                    'temp_min': 2.7},\n",
      "           'sys': {'pod': 'n'},\n",
      "           'weather': [{'description': 'clear sky',\n",
      "                        'icon': '01n',\n",
      "                        'id': 800,\n",
      "                        'main': 'Clear'}],\n",
      "           'wind': {'deg': 65.5005, 'speed': 1.2}},\n",
      "          {'clouds': {'all': 0},\n",
      "           'dt': 1554174000,\n",
      "           'dt_txt': '2019-04-02 03:00:00',\n",
      "           'main': {'grnd_level': 1002.06,\n",
      "                    'humidity': 93,\n",
      "                    'pressure': 1009.74,\n",
      "                    'sea_level': 1009.74,\n",
      "                    'temp': 1.43,\n",
      "                    'temp_kf': 0.17,\n",
      "                    'temp_max': 1.43,\n",
      "                    'temp_min': 1.26},\n",
      "           'sys': {'pod': 'n'},\n",
      "           'weather': [{'description': 'clear sky',\n",
      "                        'icon': '01n',\n",
      "                        'id': 800,\n",
      "                        'main': 'Clear'}],\n",
      "           'wind': {'deg': 276.501, 'speed': 1.07}},\n",
      "          {'clouds': {'all': 36},\n",
      "           'dt': 1554184800,\n",
      "           'dt_txt': '2019-04-02 06:00:00',\n",
      "           'main': {'grnd_level': 999.81,\n",
      "                    'humidity': 88,\n",
      "                    'pressure': 1007.61,\n",
      "                    'sea_level': 1007.61,\n",
      "                    'temp': 0.57,\n",
      "                    'temp_kf': 0,\n",
      "                    'temp_max': 0.57,\n",
      "                    'temp_min': 0.57},\n",
      "           'sys': {'pod': 'd'},\n",
      "           'weather': [{'description': 'scattered clouds',\n",
      "                        'icon': '03d',\n",
      "                        'id': 802,\n",
      "                        'main': 'Clouds'}],\n",
      "           'wind': {'deg': 231.508, 'speed': 1.18}}],\n",
      " 'message': 0.0062}\n"
     ]
    }
   ],
   "source": [
    "pprint(parsed_json)"
   ]
  },
  {
   "cell_type": "code",
   "execution_count": 7,
   "metadata": {},
   "outputs": [
    {
     "name": "stdout",
     "output_type": "stream",
     "text": [
      "1015.22\n"
     ]
    }
   ],
   "source": [
    "print(parsed_json['list'][1]['main']['pressure'])"
   ]
  },
  {
   "cell_type": "code",
   "execution_count": 8,
   "metadata": {},
   "outputs": [],
   "source": [
    "#This concise construction of one list from another is called list comprehension\n",
    "#There are also dictionary comprehensions\n",
    "maxarray = [x['main']['temp_max'] for x in parsed_json['list']]"
   ]
  },
  {
   "cell_type": "code",
   "execution_count": 9,
   "metadata": {},
   "outputs": [
    {
     "name": "stdout",
     "output_type": "stream",
     "text": [
      "[11.66, 6.46, 3.03, 1.43, 0.57]\n"
     ]
    }
   ],
   "source": [
    "print(maxarray)\n"
   ]
  },
  {
   "cell_type": "code",
   "execution_count": 10,
   "metadata": {},
   "outputs": [
    {
     "data": {
      "text/plain": [
       "11.66"
      ]
     },
     "execution_count": 10,
     "metadata": {},
     "output_type": "execute_result"
    }
   ],
   "source": [
    "max(maxarray)"
   ]
  },
  {
   "cell_type": "code",
   "execution_count": null,
   "metadata": {},
   "outputs": [],
   "source": []
  },
  {
   "cell_type": "code",
   "execution_count": null,
   "metadata": {},
   "outputs": [],
   "source": []
  },
  {
   "cell_type": "code",
   "execution_count": null,
   "metadata": {},
   "outputs": [],
   "source": []
  },
  {
   "cell_type": "code",
   "execution_count": null,
   "metadata": {},
   "outputs": [],
   "source": []
  },
  {
   "cell_type": "code",
   "execution_count": null,
   "metadata": {},
   "outputs": [],
   "source": []
  },
  {
   "cell_type": "code",
   "execution_count": null,
   "metadata": {},
   "outputs": [],
   "source": []
  },
  {
   "cell_type": "code",
   "execution_count": null,
   "metadata": {},
   "outputs": [],
   "source": []
  },
  {
   "cell_type": "code",
   "execution_count": null,
   "metadata": {},
   "outputs": [],
   "source": []
  },
  {
   "cell_type": "code",
   "execution_count": null,
   "metadata": {},
   "outputs": [],
   "source": []
  },
  {
   "cell_type": "code",
   "execution_count": null,
   "metadata": {},
   "outputs": [],
   "source": []
  },
  {
   "cell_type": "code",
   "execution_count": null,
   "metadata": {},
   "outputs": [],
   "source": []
  },
  {
   "cell_type": "code",
   "execution_count": null,
   "metadata": {},
   "outputs": [],
   "source": []
  },
  {
   "cell_type": "code",
   "execution_count": null,
   "metadata": {},
   "outputs": [],
   "source": []
  }
 ],
 "metadata": {
  "kernelspec": {
   "display_name": "Python 3",
   "language": "python",
   "name": "python3"
  },
  "language_info": {
   "codemirror_mode": {
    "name": "ipython",
    "version": 3
   },
   "file_extension": ".py",
   "mimetype": "text/x-python",
   "name": "python",
   "nbconvert_exporter": "python",
   "pygments_lexer": "ipython3",
   "version": "3.7.1"
  }
 },
 "nbformat": 4,
 "nbformat_minor": 2
}
