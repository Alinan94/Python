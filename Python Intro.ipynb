{
 "cells": [
  {
   "cell_type": "code",
   "execution_count": 1,
   "metadata": {},
   "outputs": [
    {
     "name": "stdout",
     "output_type": "stream",
     "text": [
      "hello world!\n"
     ]
    }
   ],
   "source": [
    "print ('hello world!')"
   ]
  },
  {
   "cell_type": "code",
   "execution_count": 2,
   "metadata": {},
   "outputs": [
    {
     "name": "stdout",
     "output_type": "stream",
     "text": [
      "time.struct_time(tm_year=2019, tm_mon=3, tm_mday=12, tm_hour=2, tm_min=36, tm_sec=11, tm_wday=1, tm_yday=71, tm_isdst=0)\n"
     ]
    }
   ],
   "source": [
    "from time import gmtime as the_time\n",
    "print (the_time())"
   ]
  },
  {
   "cell_type": "code",
   "execution_count": 3,
   "metadata": {},
   "outputs": [
    {
     "name": "stdout",
     "output_type": "stream",
     "text": [
      "time.struct_time(tm_year=2019, tm_mon=3, tm_mday=12, tm_hour=2, tm_min=36, tm_sec=11, tm_wday=1, tm_yday=71, tm_isdst=0)\n"
     ]
    }
   ],
   "source": [
    "print (the_time())"
   ]
  },
  {
   "cell_type": "code",
   "execution_count": 10,
   "metadata": {},
   "outputs": [
    {
     "name": "stdout",
     "output_type": "stream",
     "text": [
      "3\n"
     ]
    }
   ],
   "source": [
    "this_second = the_time().tm_sec\n",
    "print (this_second)"
   ]
  },
  {
   "cell_type": "code",
   "execution_count": 5,
   "metadata": {},
   "outputs": [
    {
     "name": "stdout",
     "output_type": "stream",
     "text": [
      "No Nigga!!\n"
     ]
    }
   ],
   "source": [
    "if this_second%3 == 0:\n",
    "    print ('divisable by 3!')\n",
    "else:\n",
    "    print ('No Nigga!!')"
   ]
  },
  {
   "cell_type": "code",
   "execution_count": 6,
   "metadata": {},
   "outputs": [
    {
     "name": "stdout",
     "output_type": "stream",
     "text": [
      "time.struct_time(tm_year=2019, tm_mon=3, tm_mday=12, tm_hour=2, tm_min=36, tm_sec=11, tm_wday=1, tm_yday=71, tm_isdst=0)\n"
     ]
    }
   ],
   "source": [
    "import random\n",
    "import time\n",
    "\n",
    "print (time.gmtime())"
   ]
  },
  {
   "cell_type": "code",
   "execution_count": 16,
   "metadata": {},
   "outputs": [
    {
     "name": "stdout",
     "output_type": "stream",
     "text": [
      "4\n",
      "This second: 46\n",
      "two is better than one.\n",
      "iteration is complete.\n",
      "5\n",
      "This second: 50\n",
      "two is better than one.\n",
      "iteration is complete.\n",
      "5\n",
      "This second: 55\n",
      "High five\n",
      "iteration is complete.\n",
      "5\n",
      "This second: 0\n",
      "it can be done.\n",
      "iteration is complete.\n",
      "2\n",
      "This second: 5\n",
      "High five\n",
      "iteration is complete.\n"
     ]
    }
   ],
   "source": [
    "for i in range (5):\n",
    "    random_num = random.randint(2,7)\n",
    "    print (random_num)\n",
    "    \n",
    "    this_second = the_time().tm_sec\n",
    "    print ('This second: %s' %this_second)\n",
    "    if this_second%3 == 0:\n",
    "        print ('it can be done.')\n",
    "    elif this_second%2 == 0:\n",
    "        print ('two is better than one.')\n",
    "    elif this_second%5 == 0:\n",
    "        print ('High five')\n",
    "    else:\n",
    "        print ('No tortilla.')\n",
    "    print ('iteration is complete.')\n",
    "    time.sleep(random_num)\n",
    "    "
   ]
  },
  {
   "cell_type": "code",
   "execution_count": null,
   "metadata": {},
   "outputs": [],
   "source": []
  },
  {
   "cell_type": "code",
   "execution_count": null,
   "metadata": {},
   "outputs": [],
   "source": []
  },
  {
   "cell_type": "code",
   "execution_count": null,
   "metadata": {},
   "outputs": [],
   "source": []
  }
 ],
 "metadata": {
  "kernelspec": {
   "display_name": "Python 3",
   "language": "python",
   "name": "python3"
  },
  "language_info": {
   "codemirror_mode": {
    "name": "ipython",
    "version": 3
   },
   "file_extension": ".py",
   "mimetype": "text/x-python",
   "name": "python",
   "nbconvert_exporter": "python",
   "pygments_lexer": "ipython3",
   "version": "3.7.1"
  }
 },
 "nbformat": 4,
 "nbformat_minor": 2
}
