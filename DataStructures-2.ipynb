{
 "cells": [
  {
   "cell_type": "code",
   "execution_count": 1,
   "metadata": {},
   "outputs": [
    {
     "name": "stdout",
     "output_type": "stream",
     "text": [
      "{'Name': 'Alan Linan', 'Gender': 'Male', 'Nationality': 'Mexican', 'Car': 'Honda Fit'}\n"
     ]
    }
   ],
   "source": [
    "#Dictionaries\n",
    "#curly brackets are used to idenify dictionaries\n",
    "customer1 = {'Name': 'Alan Linan', 'Gender': 'Male', 'Nationality': 'Mexican', 'Car': 'Honda Fit'}\n",
    "print (customer1)"
   ]
  },
  {
   "cell_type": "code",
   "execution_count": 2,
   "metadata": {},
   "outputs": [
    {
     "data": {
      "text/plain": [
       "'Alan Linan'"
      ]
     },
     "execution_count": 2,
     "metadata": {},
     "output_type": "execute_result"
    }
   ],
   "source": [
    "#use square brackets to retrieve value of a name\n",
    "customer1 ['Name']"
   ]
  },
  {
   "cell_type": "code",
   "execution_count": 1,
   "metadata": {},
   "outputs": [
    {
     "name": "stdout",
     "output_type": "stream",
     "text": [
      "Enter user input: Is this working?\n"
     ]
    }
   ],
   "source": [
    "sentence = input ('Enter user input: ')"
   ]
  },
  {
   "cell_type": "code",
   "execution_count": 2,
   "metadata": {},
   "outputs": [],
   "source": [
    "#using dictionary to count vowles in a sentence\n",
    "vowels = ['a','e','i','o','u','y']"
   ]
  },
  {
   "cell_type": "code",
   "execution_count": 3,
   "metadata": {},
   "outputs": [],
   "source": [
    "vowel_count = {}"
   ]
  },
  {
   "cell_type": "code",
   "execution_count": 4,
   "metadata": {},
   "outputs": [],
   "source": [
    "vowel_count ['a'] = 0\n",
    "vowel_count ['e'] = 0\n",
    "vowel_count ['i'] = 0\n",
    "vowel_count ['o'] = 0\n",
    "vowel_count ['u'] = 0\n",
    "vowel_count ['y'] = 0"
   ]
  },
  {
   "cell_type": "code",
   "execution_count": 5,
   "metadata": {},
   "outputs": [
    {
     "name": "stdout",
     "output_type": "stream",
     "text": [
      "{'a': 0, 'e': 0, 'i': 0, 'o': 0, 'u': 0, 'y': 0}\n"
     ]
    }
   ],
   "source": [
    "print (vowel_count)"
   ]
  },
  {
   "cell_type": "code",
   "execution_count": 6,
   "metadata": {},
   "outputs": [],
   "source": [
    "for ch in list (sentence):\n",
    "    if ch in vowels:\n",
    "        vowel_count [ch] += 1\n",
    "        "
   ]
  },
  {
   "cell_type": "code",
   "execution_count": 7,
   "metadata": {},
   "outputs": [
    {
     "name": "stdout",
     "output_type": "stream",
     "text": [
      "{'a': 0, 'e': 0, 'i': 2, 'o': 1, 'u': 0, 'y': 0}\n"
     ]
    }
   ],
   "source": [
    "print (vowel_count)"
   ]
  },
  {
   "cell_type": "code",
   "execution_count": 8,
   "metadata": {},
   "outputs": [
    {
     "name": "stdout",
     "output_type": "stream",
     "text": [
      "Frequency a : 0\n",
      "Frequency e : 0\n",
      "Frequency i : 2\n",
      "Frequency o : 1\n",
      "Frequency u : 0\n",
      "Frequency y : 0\n"
     ]
    }
   ],
   "source": [
    "#k = key, v = value\n",
    "for k,v in sorted (vowel_count.items ()):\n",
    "    print ('Frequency %s : %i' %(k,v))"
   ]
  },
  {
   "cell_type": "code",
   "execution_count": 1,
   "metadata": {},
   "outputs": [
    {
     "name": "stdout",
     "output_type": "stream",
     "text": [
      "Once deleted, variables cannot be recovered. Proceed (y/[n])? y\n"
     ]
    }
   ],
   "source": [
    "%reset"
   ]
  },
  {
   "cell_type": "code",
   "execution_count": 2,
   "metadata": {},
   "outputs": [
    {
     "name": "stdout",
     "output_type": "stream",
     "text": [
      "Enter a Sentence: My freaking dogs keep looking for trouble and it is not the best thing for my blood pressure.\n"
     ]
    }
   ],
   "source": [
    "sentence = input ('Enter a Sentence: ')"
   ]
  },
  {
   "cell_type": "code",
   "execution_count": 4,
   "metadata": {},
   "outputs": [],
   "source": [
    "#using dictionary to count vowles in a sentence\n",
    "vowels = ['a','e','i','o','u','y']"
   ]
  },
  {
   "cell_type": "code",
   "execution_count": 6,
   "metadata": {},
   "outputs": [],
   "source": [
    "vowel_count = {}"
   ]
  },
  {
   "cell_type": "code",
   "execution_count": 9,
   "metadata": {},
   "outputs": [],
   "source": [
    "#.setdefault allows us to set initial parameters for keys not found in the dictionary \n",
    "for ch in list(sentence):\n",
    "    if ch in vowels:\n",
    "        vowel_count.setdefault (ch,0)\n",
    "        vowel_count [ch] += 1"
   ]
  },
  {
   "cell_type": "code",
   "execution_count": 10,
   "metadata": {},
   "outputs": [
    {
     "data": {
      "text/plain": [
       "{'a': 2, 'e': 8, 'i': 5, 'o': 9, 'u': 2, 'y': 2}"
      ]
     },
     "execution_count": 10,
     "metadata": {},
     "output_type": "execute_result"
    }
   ],
   "source": [
    "vowel_count"
   ]
  },
  {
   "cell_type": "code",
   "execution_count": null,
   "metadata": {},
   "outputs": [],
   "source": []
  },
  {
   "cell_type": "code",
   "execution_count": 11,
   "metadata": {},
   "outputs": [],
   "source": [
    "#dictionary containing dictionary\n",
    "customers = {}"
   ]
  },
  {
   "cell_type": "code",
   "execution_count": 15,
   "metadata": {},
   "outputs": [],
   "source": [
    "customers ['Alan'] = {'Name': 'Alan Linan', 'Gender': 'Male', 'Nationality': 'Mexican', 'Car': 'Honda Fit'}\n",
    "customers ['Jazmin'] = {'Name': 'Jazmin Meza', 'Gender': 'Female', 'Nationality': 'Mexican', 'Car': 'Toyota Corolla'}\n",
    "customers ['Spencer'] = {'Name': 'Spencer T.', 'Gender': 'Male', 'Nationality': 'Caucasian', 'Car': 'Jeep Wrangler'}"
   ]
  },
  {
   "cell_type": "code",
   "execution_count": 16,
   "metadata": {},
   "outputs": [
    {
     "data": {
      "text/plain": [
       "{'Alan': {'Name': 'Alan Linan',\n",
       "  'Gender': 'Male',\n",
       "  'Nationality': 'Mexican',\n",
       "  'Car': 'Honda Fit'},\n",
       " 'Jazmin': {'Name': 'Jazmin Meza',\n",
       "  'Gender': 'Female',\n",
       "  'Nationality': 'Mexican',\n",
       "  'Car': 'Toyota Corolla'},\n",
       " 'Spencer': {'Name': 'Spencer T.',\n",
       "  'Gender': 'Male',\n",
       "  'Nationality': 'Caucasian',\n",
       "  'Car': 'Jeep Wrangler'}}"
      ]
     },
     "execution_count": 16,
     "metadata": {},
     "output_type": "execute_result"
    }
   ],
   "source": [
    "customers"
   ]
  },
  {
   "cell_type": "code",
   "execution_count": 17,
   "metadata": {},
   "outputs": [
    {
     "name": "stdout",
     "output_type": "stream",
     "text": [
      "{'Alan': {'Car': 'Honda Fit',\n",
      "          'Gender': 'Male',\n",
      "          'Name': 'Alan Linan',\n",
      "          'Nationality': 'Mexican'},\n",
      " 'Jazmin': {'Car': 'Toyota Corolla',\n",
      "            'Gender': 'Female',\n",
      "            'Name': 'Jazmin Meza',\n",
      "            'Nationality': 'Mexican'},\n",
      " 'Spencer': {'Car': 'Jeep Wrangler',\n",
      "             'Gender': 'Male',\n",
      "             'Name': 'Spencer T.',\n",
      "             'Nationality': 'Caucasian'}}\n"
     ]
    }
   ],
   "source": [
    "import pprint\n",
    "pprint.pprint (customers)"
   ]
  },
  {
   "cell_type": "code",
   "execution_count": 23,
   "metadata": {},
   "outputs": [
    {
     "data": {
      "text/plain": [
       "'Honda Fit'"
      ]
     },
     "execution_count": 23,
     "metadata": {},
     "output_type": "execute_result"
    }
   ],
   "source": [
    "#Accessing Data\n",
    "customers ['Alan']['Car']"
   ]
  },
  {
   "cell_type": "code",
   "execution_count": 25,
   "metadata": {},
   "outputs": [],
   "source": [
    "#Dictionary Values can be lists\n",
    "customers ['Alan']['Car'] = ['Honda Fit', 'Accura Integra', 'Chevy Camaro']"
   ]
  },
  {
   "cell_type": "code",
   "execution_count": 26,
   "metadata": {},
   "outputs": [
    {
     "data": {
      "text/plain": [
       "['Honda Fit', 'Accura Integra', 'Chevy Camaro']"
      ]
     },
     "execution_count": 26,
     "metadata": {},
     "output_type": "execute_result"
    }
   ],
   "source": [
    "customers ['Alan'] ['Car']"
   ]
  },
  {
   "cell_type": "code",
   "execution_count": 28,
   "metadata": {},
   "outputs": [
    {
     "data": {
      "text/plain": [
       "'Chevy Camaro'"
      ]
     },
     "execution_count": 28,
     "metadata": {},
     "output_type": "execute_result"
    }
   ],
   "source": [
    "customers ['Alan']['Car'][2]"
   ]
  },
  {
   "cell_type": "code",
   "execution_count": null,
   "metadata": {},
   "outputs": [],
   "source": []
  },
  {
   "cell_type": "code",
   "execution_count": null,
   "metadata": {},
   "outputs": [],
   "source": []
  },
  {
   "cell_type": "code",
   "execution_count": null,
   "metadata": {},
   "outputs": [],
   "source": []
  }
 ],
 "metadata": {
  "kernelspec": {
   "display_name": "Python 3",
   "language": "python",
   "name": "python3"
  },
  "language_info": {
   "codemirror_mode": {
    "name": "ipython",
    "version": 3
   },
   "file_extension": ".py",
   "mimetype": "text/x-python",
   "name": "python",
   "nbconvert_exporter": "python",
   "pygments_lexer": "ipython3",
   "version": "3.7.1"
  }
 },
 "nbformat": 4,
 "nbformat_minor": 2
}
